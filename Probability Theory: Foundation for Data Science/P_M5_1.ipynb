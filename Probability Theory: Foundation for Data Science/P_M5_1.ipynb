{
 "cells": [
  {
   "cell_type": "markdown",
   "metadata": {},
   "source": [
    "# Module 5 Peer Review Assignment"
   ]
  },
  {
   "cell_type": "markdown",
   "metadata": {},
   "source": [
    "# Problem 1\n",
    "\n",
    "Roll two six-sided fair dice. Let $X$ denote the larger of the two values. Let $Y$ denote the smaller of the two values."
   ]
  },
  {
   "cell_type": "markdown",
   "metadata": {},
   "source": [
    "**a)** Construct a table that gives the joint probability mass function for $X$ and $Y$."
   ]
  },
  {
   "cell_type": "code",
   "execution_count": 1,
   "metadata": {},
   "outputs": [],
   "source": [
    "joint_pmf_table = matrix(c(1:36), nrow = 6, ncol = 6)"
   ]
  },
  {
   "cell_type": "code",
   "execution_count": 2,
   "metadata": {},
   "outputs": [],
   "source": [
    "for (x in (1:6)){\n",
    "    for (y in (1:6)){\n",
    "        if (x < y){\n",
    "            joint_pmf_table[y:y, x:x] = 0\n",
    "        }\n",
    "        if (x > y){\n",
    "            joint_pmf_table[y:y, x:x] = 2/36\n",
    "        }\n",
    "        if (x == y){\n",
    "            joint_pmf_table[y:y, x:x] = 1/36\n",
    "        }\n",
    "    }\n",
    "}\n",
    "\n",
    "rownames(joint_pmf_table) = c(1:6)\n",
    "colnames(joint_pmf_table) = c(1:6)\n",
    "\n",
    "# for (x in (1:6)){paste('x =', as.character(i))}"
   ]
  },
  {
   "cell_type": "code",
   "execution_count": 3,
   "metadata": {},
   "outputs": [
    {
     "data": {
      "text/html": [
       "<table>\n",
       "<caption>A matrix: 6 × 6 of type dbl</caption>\n",
       "<thead>\n",
       "\t<tr><th></th><th scope=col>1</th><th scope=col>2</th><th scope=col>3</th><th scope=col>4</th><th scope=col>5</th><th scope=col>6</th></tr>\n",
       "</thead>\n",
       "<tbody>\n",
       "\t<tr><th scope=row>1</th><td>0.02777778</td><td>0.05555556</td><td>0.05555556</td><td>0.05555556</td><td>0.05555556</td><td>0.05555556</td></tr>\n",
       "\t<tr><th scope=row>2</th><td>0.00000000</td><td>0.02777778</td><td>0.05555556</td><td>0.05555556</td><td>0.05555556</td><td>0.05555556</td></tr>\n",
       "\t<tr><th scope=row>3</th><td>0.00000000</td><td>0.00000000</td><td>0.02777778</td><td>0.05555556</td><td>0.05555556</td><td>0.05555556</td></tr>\n",
       "\t<tr><th scope=row>4</th><td>0.00000000</td><td>0.00000000</td><td>0.00000000</td><td>0.02777778</td><td>0.05555556</td><td>0.05555556</td></tr>\n",
       "\t<tr><th scope=row>5</th><td>0.00000000</td><td>0.00000000</td><td>0.00000000</td><td>0.00000000</td><td>0.02777778</td><td>0.05555556</td></tr>\n",
       "\t<tr><th scope=row>6</th><td>0.00000000</td><td>0.00000000</td><td>0.00000000</td><td>0.00000000</td><td>0.00000000</td><td>0.02777778</td></tr>\n",
       "</tbody>\n",
       "</table>\n"
      ],
      "text/latex": [
       "A matrix: 6 × 6 of type dbl\n",
       "\\begin{tabular}{r|llllll}\n",
       "  & 1 & 2 & 3 & 4 & 5 & 6\\\\\n",
       "\\hline\n",
       "\t1 & 0.02777778 & 0.05555556 & 0.05555556 & 0.05555556 & 0.05555556 & 0.05555556\\\\\n",
       "\t2 & 0.00000000 & 0.02777778 & 0.05555556 & 0.05555556 & 0.05555556 & 0.05555556\\\\\n",
       "\t3 & 0.00000000 & 0.00000000 & 0.02777778 & 0.05555556 & 0.05555556 & 0.05555556\\\\\n",
       "\t4 & 0.00000000 & 0.00000000 & 0.00000000 & 0.02777778 & 0.05555556 & 0.05555556\\\\\n",
       "\t5 & 0.00000000 & 0.00000000 & 0.00000000 & 0.00000000 & 0.02777778 & 0.05555556\\\\\n",
       "\t6 & 0.00000000 & 0.00000000 & 0.00000000 & 0.00000000 & 0.00000000 & 0.02777778\\\\\n",
       "\\end{tabular}\n"
      ],
      "text/markdown": [
       "\n",
       "A matrix: 6 × 6 of type dbl\n",
       "\n",
       "| <!--/--> | 1 | 2 | 3 | 4 | 5 | 6 |\n",
       "|---|---|---|---|---|---|---|\n",
       "| 1 | 0.02777778 | 0.05555556 | 0.05555556 | 0.05555556 | 0.05555556 | 0.05555556 |\n",
       "| 2 | 0.00000000 | 0.02777778 | 0.05555556 | 0.05555556 | 0.05555556 | 0.05555556 |\n",
       "| 3 | 0.00000000 | 0.00000000 | 0.02777778 | 0.05555556 | 0.05555556 | 0.05555556 |\n",
       "| 4 | 0.00000000 | 0.00000000 | 0.00000000 | 0.02777778 | 0.05555556 | 0.05555556 |\n",
       "| 5 | 0.00000000 | 0.00000000 | 0.00000000 | 0.00000000 | 0.02777778 | 0.05555556 |\n",
       "| 6 | 0.00000000 | 0.00000000 | 0.00000000 | 0.00000000 | 0.00000000 | 0.02777778 |\n",
       "\n"
      ],
      "text/plain": [
       "  1          2          3          4          5          6         \n",
       "1 0.02777778 0.05555556 0.05555556 0.05555556 0.05555556 0.05555556\n",
       "2 0.00000000 0.02777778 0.05555556 0.05555556 0.05555556 0.05555556\n",
       "3 0.00000000 0.00000000 0.02777778 0.05555556 0.05555556 0.05555556\n",
       "4 0.00000000 0.00000000 0.00000000 0.02777778 0.05555556 0.05555556\n",
       "5 0.00000000 0.00000000 0.00000000 0.00000000 0.02777778 0.05555556\n",
       "6 0.00000000 0.00000000 0.00000000 0.00000000 0.00000000 0.02777778"
      ]
     },
     "metadata": {},
     "output_type": "display_data"
    }
   ],
   "source": [
    "joint_pmf_table"
   ]
  },
  {
   "cell_type": "markdown",
   "metadata": {},
   "source": [
    "YOUR ANSWER HERE"
   ]
  },
  {
   "cell_type": "markdown",
   "metadata": {},
   "source": [
    "**b)** What is $P(X \\ge 3, Y = 1)$?"
   ]
  },
  {
   "cell_type": "code",
   "execution_count": null,
   "metadata": {},
   "outputs": [],
   "source": [
    "P(X >= 3, Y = 1) = 2/36 * 4 = 8/36 = 2/9"
   ]
  },
  {
   "cell_type": "markdown",
   "metadata": {},
   "source": [
    "**c)** What is $P(X \\ge Y + 2)$?"
   ]
  },
  {
   "cell_type": "code",
   "execution_count": null,
   "metadata": {},
   "outputs": [],
   "source": [
    "P(X >= Y+2) = P(X >=3, Y = 1) + P(X >= 4, Y = 2) + P(X >= 5, Y = 3) + P(X >= 6, Y = 4)\n",
    "            = 2/36 * 4 + 2/36 * 3 + 2/36 * 2 + 2/36 * 1\n",
    "            = 20/36 = 5/9"
   ]
  },
  {
   "cell_type": "markdown",
   "metadata": {},
   "source": [
    "**d)** Are $X$ and $Y$ independent? Explain."
   ]
  },
  {
   "cell_type": "code",
   "execution_count": null,
   "metadata": {},
   "outputs": [],
   "source": [
    "Choose X = 2 and Y = 1, P(X=2 and Y=1) = 2/36 != P(X=2) * P(Y=1) = 1/36\n",
    "So X and Y are not independent."
   ]
  },
  {
   "cell_type": "markdown",
   "metadata": {},
   "source": [
    "# Problem 2\n",
    "\n",
    "Let $(X, Y)$ be continuous random variables with joint PDF:\n",
    "\n",
    "$$\n",
    "  f(x,y) =\n",
    "  \\begin{cases}\n",
    "                                   cxy^2 & \\text{if $0 \\le x \\le 1 \\text{ and } 0 \\le y \\le 1$} \\\\\n",
    "                                   0 & \\text{else}\n",
    "  \\end{cases}\n",
    "$$\n"
   ]
  },
  {
   "cell_type": "markdown",
   "metadata": {},
   "source": [
    "**Part a)**\n",
    "\n",
    "Solve for $c$. Show your work."
   ]
  },
  {
   "cell_type": "code",
   "execution_count": null,
   "metadata": {},
   "outputs": [],
   "source": [
    "Integrate (cxy^2) over [0,1] twice, we can finally get\n",
    "c = 6"
   ]
  },
  {
   "cell_type": "markdown",
   "metadata": {},
   "source": [
    "**Part b)** \n",
    "\n",
    "Find the marginal distributions $f_X(x)$ and $f_Y(y)$. Show your work."
   ]
  },
  {
   "cell_type": "code",
   "execution_count": null,
   "metadata": {},
   "outputs": [],
   "source": [
    "The marginal PMF of X is fX(x) = 2x for 0 <= x <= 1 and 0 otherwise\n",
    "The marginal PMF of Y is fY(y) = 3y^2 for 0 <= y <= 1 and 0 otherwise"
   ]
  },
  {
   "cell_type": "markdown",
   "metadata": {},
   "source": [
    "**Part c)**\n",
    "\n",
    "Solve for $E[X]$ and $E[Y]$. Show your work."
   ]
  },
  {
   "cell_type": "code",
   "execution_count": null,
   "metadata": {},
   "outputs": [],
   "source": [
    "E[X] is the integral of x.2x over the interval [0,1]\n",
    "E[X] = 2/3\n",
    "E[X] is the integral of y.3y^2 over the interval [0,1]\n",
    "E[X] = 3/4"
   ]
  },
  {
   "cell_type": "markdown",
   "metadata": {},
   "source": [
    "**Part d)** \n",
    "\n",
    "Using the joint PDF, solve for $E[XY]$. Show your work."
   ]
  },
  {
   "cell_type": "code",
   "execution_count": null,
   "metadata": {},
   "outputs": [],
   "source": [
    "E[XY] is the double integral of (xy.2x.3y^2) over 2 equal intervals [0,1]\n",
    "E[XY] = 1/2"
   ]
  },
  {
   "cell_type": "markdown",
   "metadata": {},
   "source": [
    "**Part e)**\n",
    "\n",
    "Are $X$ and $Y$ independent?"
   ]
  },
  {
   "cell_type": "markdown",
   "metadata": {},
   "source": [
    "Yes because E[X].E[Y] = E[XY]"
   ]
  }
 ],
 "metadata": {
  "kernelspec": {
   "display_name": "R",
   "language": "R",
   "name": "ir"
  },
  "language_info": {
   "codemirror_mode": "r",
   "file_extension": ".r",
   "mimetype": "text/x-r-source",
   "name": "R",
   "pygments_lexer": "r",
   "version": "3.6.3"
  }
 },
 "nbformat": 4,
 "nbformat_minor": 4
}
