{
 "cells": [
  {
   "cell_type": "markdown",
   "metadata": {},
   "source": [
    "# Module 3 Peer Review Assignment"
   ]
  },
  {
   "cell_type": "markdown",
   "metadata": {},
   "source": [
    "# Problem 1\n",
    "\n",
    "You work at a factory that manufactures light bulbs. You have determined that $5\\%$ of light bulbs that are produced are defective. For each of the scenarios below:\n",
    "\n",
    "1. Define an appropriate random variable and distribution.\n",
    "2. State the values that the random variable can take on.\n",
    "3. State any assumptions that you need to make.\n",
    "4. Find the probability that the random variable you defined takes on the value $X=4$."
   ]
  },
  {
   "cell_type": "markdown",
   "metadata": {},
   "source": [
    "**Part a)**\n",
    "\n",
    "Out of 30 lightbulbs, $k$ are defective."
   ]
  },
  {
   "cell_type": "markdown",
   "metadata": {},
   "source": [
    "1/ X is the number of defective bulbs in 30 bulbs and X ~ Bin(p = 0.05)."
   ]
  },
  {
   "cell_type": "code",
   "execution_count": null,
   "metadata": {},
   "outputs": [],
   "source": [
    "2/ X can take on integer values from 0 to 30."
   ]
  },
  {
   "cell_type": "code",
   "execution_count": null,
   "metadata": {},
   "outputs": [],
   "source": [
    "3/ Assumptions: Each bulb is produced identically and indepently.\n",
    "                The production results in a success (p = 0.05) or a failure (p = 0.95)"
   ]
  },
  {
   "cell_type": "code",
   "execution_count": null,
   "metadata": {},
   "outputs": [],
   "source": [
    "4/ P(X = 4) = choose(30, 4) * 0.05**4 * 0.95**26 ~ 0.045"
   ]
  },
  {
   "cell_type": "markdown",
   "metadata": {},
   "source": [
    "**Part b)**\n",
    "\n",
    "You test each lightbulb as it comes of the line. The $k^{th}$ light bulb is defective."
   ]
  },
  {
   "cell_type": "markdown",
   "metadata": {},
   "source": [
    "1/ X is the number of trials until you get the first defective bulb. X ~ Geom(0.05)\n",
    "\n",
    "2/ X can take on integer values from 1 to infinity.\n",
    "\n",
    "3/ Assumptions: Each bulb is produced identically and indepently.\n",
    "                The production results in a success (p = 0.05) or a failure (p = 0.95)\n",
    "                \n",
    "4/ P(X = 4) = (1-0.05)^3 * 0.05 ~ 0.0423"
   ]
  },
  {
   "cell_type": "markdown",
   "metadata": {},
   "source": [
    "**Part c)**\n",
    "\n",
    "You find your second defective drive after observing $k$ drives in all."
   ]
  },
  {
   "cell_type": "markdown",
   "metadata": {},
   "source": [
    "1/ X is the number of drives until you get the second defective drive. X ~ NB(2, 0.05)\n",
    "\n",
    "2/ X can take on integer values from 2 to infinity.\n",
    "\n",
    "3/ Assumptions: Each bulb is produced identically and indepently.\n",
    "                The production results in a success (p = 0.05) or a failure (p = 0.95)\n",
    "                \n",
    "4/ P(X = 4) = choose(3, 1) * 0.05^2 0.95^2 ~ 0.00677"
   ]
  },
  {
   "cell_type": "markdown",
   "metadata": {},
   "source": [
    "# Problem 2\n",
    "\n",
    "Consider a loaded six-sided die that is twice as likely to roll an even number as an odd number. Let $X$ be random variable for value that is rolled from the die."
   ]
  },
  {
   "cell_type": "markdown",
   "metadata": {},
   "source": [
    "**Part a)**\n",
    "\n",
    "What is the Probability Mass Function for $X$. Write this out as a table."
   ]
  },
  {
   "cell_type": "markdown",
   "metadata": {},
   "source": [
    "P(X = 1) = 1/9\n",
    "\n",
    "P(X = 2) = 2/9\n",
    "\n",
    "P(X = 3) = 1/9\n",
    "\n",
    "P(X = 4) = 2/9\n",
    "\n",
    "P(X = 5) = 1/9\n",
    "\n",
    "P(X = 6) = 2/9"
   ]
  },
  {
   "cell_type": "markdown",
   "metadata": {},
   "source": [
    "**Part b)**\n",
    "\n",
    "What is the Cumulative Distribution Function for $X$?"
   ]
  },
  {
   "cell_type": "markdown",
   "metadata": {},
   "source": [
    "P(X < 1) = 0\n",
    "\n",
    "P(1 <= X < 2) = 1/9\n",
    "\n",
    "P(2 <= X < 3) = 1/3\n",
    "\n",
    "P(3 <= X < 4) = 4/9\n",
    "\n",
    "P(4 <= X < 5) = 6/9\n",
    "\n",
    "P(5 <= X < 6) = 7/9\n",
    "\n",
    "P(X >= 6) = 1"
   ]
  },
  {
   "cell_type": "markdown",
   "metadata": {},
   "source": [
    "**Part c)** \n",
    "\n",
    "What is $E[X]$?"
   ]
  },
  {
   "cell_type": "code",
   "execution_count": null,
   "metadata": {},
   "outputs": [],
   "source": [
    "E = 0\n",
    "for (i in 1:6){\n",
    "    if (i %% 2 == 1){\n",
    "        E = E + i*1/9\n",
    "    }\n",
    "    else{\n",
    "        E = E + i*2/9\n",
    "    }\n",
    "}"
   ]
  },
  {
   "cell_type": "markdown",
   "metadata": {},
   "source": [
    "3.66"
   ]
  },
  {
   "cell_type": "markdown",
   "metadata": {},
   "source": [
    "# Problem 3\n",
    "\n",
    "How would we simulate variables from these distributions in R? It'll turn out that the method is fairly similar across all these distributions so, for simplicity, let's just say we want to simulate $X \\sim Bin(n,p)$. Take a look at the official documentation for this function [here](https://www.rdocumentation.org/packages/stats/versions/3.3/topics/Binomial). Not extremely clear, is it? Let's go through it one step at a time."
   ]
  },
  {
   "cell_type": "markdown",
   "metadata": {},
   "source": [
    "**Part a)** \n",
    "\n",
    "What if we want a random variable from this distribution? That is, we know some underlying distribution and we want to simulate many results from that distribution. Then we would use the \"random generation\" function `rbinom()`.\n",
    "\n",
    "Play around with this function, with different `size` and `prob` parameters to get a feel for how it works. Finally, generate $30$ results from a $Bin(10, 0.3)$ distribution and plot a histogram of the results."
   ]
  },
  {
   "cell_type": "code",
   "execution_count": 2,
   "metadata": {},
   "outputs": [
    {
     "data": {
      "image/png": "[encoded data removed]",
      "text/plain": [
       "Plot with title “Histogram of results”"
      ]
     },
     "metadata": {
      "image/png": {
       "height": 420,
       "width": 420
      },
      "text/plain": {
       "height": 420,
       "width": 420
      }
     },
     "output_type": "display_data"
    }
   ],
   "source": [
    "results = rbinom(30, size = 10, prob = 0.3)\n",
    "hist(results)"
   ]
  },
  {
   "cell_type": "markdown",
   "metadata": {},
   "source": [
    "**Part b)**\n",
    "\n",
    "What if we have some value $k$ and we want to know what's probability of generating $k$? That is, we're solving the Probability Mass Function $P(X=k)$. Then we would use the \"density\" function `dbinom()`.\n",
    "\n",
    "Let $X \\sim Bin(15, 0.4)$. By hand, solve $P(X=4)$. Then use the `dbinom()` function to confirm your result."
   ]
  },
  {
   "cell_type": "markdown",
   "metadata": {},
   "source": [
    "YOUR ANSWER HERE"
   ]
  },
  {
   "cell_type": "code",
   "execution_count": 4,
   "metadata": {},
   "outputs": [
    {
     "data": {
      "text/html": [
       "0.12677580324864"
      ],
      "text/latex": [
       "0.12677580324864"
      ],
      "text/markdown": [
       "0.12677580324864"
      ],
      "text/plain": [
       "[1] 0.1267758"
      ]
     },
     "metadata": {},
     "output_type": "display_data"
    }
   ],
   "source": [
    "dbinom(4, 15, 0.4, log = FALSE)"
   ]
  },
  {
   "cell_type": "markdown",
   "metadata": {},
   "source": [
    "**Part c)**\n",
    "\n",
    "What if we wanted to solve for some value of the Cumulative Density Function? That is, we know $k$ and want to find $P(X \\le k) = p$. Then we would use the \"distribution function\" `pbinom()`.\n",
    "\n",
    "Let $X \\sim Bin(15, 0.4)$. By hand, solve $P(X \\le 4)$. Then use the `qbinom()` function to confirm your result."
   ]
  },
  {
   "cell_type": "markdown",
   "metadata": {},
   "source": [
    "pbinom(4, 15, 0.4)"
   ]
  },
  {
   "cell_type": "markdown",
   "metadata": {},
   "source": [
    "**Part d)**\n",
    "\n",
    "Finally, we have the \"quantile\" function `qbinom()`. This function is the reverse of the `pbinom()` function, in that it takes a probability $p$ as an argument and returns the value $k$ of the CDF that results in that much probability.\n",
    "\n",
    "Use the `qbinom()` function to confirm your results from **Part c**. That is, plug in the probablity you got from **Part c** and see if you get the same $k$."
   ]
  },
  {
   "cell_type": "code",
   "execution_count": 17,
   "metadata": {},
   "outputs": [
    {
     "data": {
      "text/html": [
       "4"
      ],
      "text/latex": [
       "4"
      ],
      "text/markdown": [
       "4"
      ],
      "text/plain": [
       "[1] 4"
      ]
     },
     "metadata": {},
     "output_type": "display_data"
    }
   ],
   "source": [
    "qbinom(0.217277705650176, 15, 0.4)"
   ]
  },
  {
   "cell_type": "markdown",
   "metadata": {},
   "source": [
    "Nearly every distribution has these four functions, and they will be very useful for our future calculations and simulations."
   ]
  }
 ],
 "metadata": {
  "kernelspec": {
   "display_name": "R",
   "language": "R",
   "name": "ir"
  },
  "language_info": {
   "codemirror_mode": "r",
   "file_extension": ".r",
   "mimetype": "text/x-r-source",
   "name": "R",
   "pygments_lexer": "r",
   "version": "3.6.3"
  }
 },
 "nbformat": 4,
 "nbformat_minor": 4
}
